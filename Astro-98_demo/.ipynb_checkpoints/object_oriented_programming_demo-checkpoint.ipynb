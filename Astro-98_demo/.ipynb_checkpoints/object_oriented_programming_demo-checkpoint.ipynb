{
 "cells": [
  {
   "cell_type": "code",
   "execution_count": 17,
   "id": "ac62fac3",
   "metadata": {},
   "outputs": [],
   "source": [
    "class Animal:\n",
    "    def __init__(self, name, age, height): #self is just syntax, is just kinda sits there and looks pretty.\n",
    "        self.name = name #self.name assigns the name of the object to the entire class\n",
    "        self.age = age\n",
    "        self.height = height\n",
    "        self.babies = 0 #not in the paratheses because we assume that all animals are born with 0 babies\n",
    "    #creating methods for the object; stuff animals can do\n",
    "    def eat(self):\n",
    "        print(f'{self.name} is eating.') #this f string is the same as writing print({self.name}, 'is eating.')\n",
    "    def sleep(self, hours):\n",
    "        print(self.name, 'is sleeping.')\n",
    "        self.height += hours #increases the height of the animal by the number of hours that the cat sleeps"
   ]
  },
  {
   "cell_type": "code",
   "execution_count": 18,
   "id": "56dd1d17",
   "metadata": {},
   "outputs": [],
   "source": [
    "cat = Animal('mittens', 2, 1) #don't need to include self."
   ]
  },
  {
   "cell_type": "code",
   "execution_count": 19,
   "id": "fc1e7d65",
   "metadata": {},
   "outputs": [
    {
     "data": {
      "text/plain": [
       "'mittens'"
      ]
     },
     "execution_count": 19,
     "metadata": {},
     "output_type": "execute_result"
    }
   ],
   "source": [
    "cat.name #tells you the name of the animal"
   ]
  },
  {
   "cell_type": "code",
   "execution_count": 20,
   "id": "d388ffb4",
   "metadata": {},
   "outputs": [
    {
     "data": {
      "text/plain": [
       "2"
      ]
     },
     "execution_count": 20,
     "metadata": {},
     "output_type": "execute_result"
    }
   ],
   "source": [
    "cat.age "
   ]
  },
  {
   "cell_type": "code",
   "execution_count": 9,
   "id": "0b07c22f",
   "metadata": {},
   "outputs": [
    {
     "name": "stdout",
     "output_type": "stream",
     "text": [
      "mittens is eating.\n"
     ]
    }
   ],
   "source": [
    "cat.eat() #the parentheses are just syntax, but necessary"
   ]
  },
  {
   "cell_type": "code",
   "execution_count": 22,
   "id": "cbadffcd",
   "metadata": {},
   "outputs": [
    {
     "name": "stdout",
     "output_type": "stream",
     "text": [
      "mittens is sleeping.\n"
     ]
    }
   ],
   "source": [
    "cat.sleep(2)"
   ]
  },
  {
   "cell_type": "code",
   "execution_count": 23,
   "id": "9a004f83",
   "metadata": {},
   "outputs": [],
   "source": [
    "#Now we want to add on dogs under the larger umbrella of animals, but dogs are different because they bark so we add that\n",
    "class Dog(Animal):\n",
    "    def __init__(self, name, age, height, breed): \n",
    "        #still need to repeat the self, name, etc..stuff but it inherits the eat and sleep from animals. \n",
    "        super().__init__(name, age, height) #super calls all the constructor in animal\n",
    "        self.breed = breed\n",
    "    def bark(self):\n",
    "        print('woof!')"
   ]
  },
  {
   "cell_type": "code",
   "execution_count": 24,
   "id": "ad26a2bd",
   "metadata": {},
   "outputs": [],
   "source": [
    "dog = Dog('steve', 6, 1, 'poodle')"
   ]
  },
  {
   "cell_type": "code",
   "execution_count": 25,
   "id": "1d3a51d4",
   "metadata": {},
   "outputs": [
    {
     "name": "stdout",
     "output_type": "stream",
     "text": [
      "poodle\n",
      "steve\n",
      "1\n",
      "6\n"
     ]
    }
   ],
   "source": [
    "print(dog.breed)\n",
    "print(dog.name)\n",
    "print(dog.height)\n",
    "print(dog.age)"
   ]
  },
  {
   "cell_type": "code",
   "execution_count": 31,
   "id": "dc89c789",
   "metadata": {},
   "outputs": [
    {
     "data": {
      "text/plain": [
       "2"
      ]
     },
     "execution_count": 31,
     "metadata": {},
     "output_type": "execute_result"
    }
   ],
   "source": [
    "dog.height #the height increased by one because we ran dog.sleep(1), so the dog slept for one hour and height +1"
   ]
  },
  {
   "cell_type": "code",
   "execution_count": null,
   "id": "1b827905",
   "metadata": {},
   "outputs": [],
   "source": [
    "#last class day of python decal :("
   ]
  }
 ],
 "metadata": {
  "kernelspec": {
   "display_name": "Python 3 (ipykernel)",
   "language": "python",
   "name": "python3"
  },
  "language_info": {
   "codemirror_mode": {
    "name": "ipython",
    "version": 3
   },
   "file_extension": ".py",
   "mimetype": "text/x-python",
   "name": "python",
   "nbconvert_exporter": "python",
   "pygments_lexer": "ipython3",
   "version": "3.11.5"
  }
 },
 "nbformat": 4,
 "nbformat_minor": 5
}
