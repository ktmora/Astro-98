{
 "cells": [
  {
   "cell_type": "markdown",
   "id": "ac8a0890",
   "metadata": {},
   "source": [
    "# Curve Fitting Discussion"
   ]
  },
  {
   "cell_type": "markdown",
   "id": "85996ffb",
   "metadata": {},
   "source": [
    "Do the following: \n",
    "- 1. Plot the data from the file.\n",
    "    - Note that these are NOT csv files, and thus we need to manually specify the delimiter. you might also need to account for comments / extra metadata in the file. Welcome to data cleaning :) \n",
    "    - Include axis labels and a title!\n",
    "        - Note that the files do not include units :( So I found them already: \n",
    "        - HAL1211: ppt (parts per trillion)\n",
    "        - CH4: ppb (parts per billion)\n",
    "        - For both, the dates are numerical values corresponding to years.\n",
    "- 2. Fit the appropriate model to the data. You can use scipy.optimize or numpy.polyfit.\n",
    "- 3. Calculate the reduced chi-squared value\n",
    "- 4. Print out the parameters, their errors, the reduced chi-squared value, and the final equation.\n"
   ]
  },
  {
   "cell_type": "markdown",
   "id": "dc6d07a7",
   "metadata": {},
   "source": [
    "You can also find the data sets from here. These are live sets: they are updated frequently, so they looked different when I initially made these problems last year (and contain more data now).\n",
    "</br></br>Sources: \n",
    "- https://gml.noaa.gov/hats/gases/halon1211.html\n",
    "- https://gml.noaa.gov/ccgg/trends_ch4/\n",
    "\n",
    "More data if you're interested: \n",
    "- https://gml.noaa.gov/hats/data.html\n",
    "\n",
    "_HAL1211 is Halon 1211, or bromochlorodifluoromethane, used in fire extinguishers. Its manufacture was banned in the 90s, but use as a fire suppresant is still unrestricted.  it is great for putting out fires but it is terrible for the ozone layer._\n",
    "</br> </br>_CH4 is methane, a very potent greenhouse gas with numerous sources._"
   ]
  },
  {
   "cell_type": "code",
   "execution_count": 1,
   "id": "3059f53e",
   "metadata": {},
   "outputs": [],
   "source": [
    "import numpy as np\n",
    "import pandas as pd\n",
    "import scipy.optimize as fit\n",
    "import matplotlib.pyplot as plt"
   ]
  },
  {
   "cell_type": "code",
   "execution_count": null,
   "id": "2e782683",
   "metadata": {},
   "outputs": [],
   "source": []
  }
 ],
 "metadata": {
  "kernelspec": {
   "display_name": "Python 3 (ipykernel)",
   "language": "python",
   "name": "python3"
  },
  "language_info": {
   "codemirror_mode": {
    "name": "ipython",
    "version": 3
   },
   "file_extension": ".py",
   "mimetype": "text/x-python",
   "name": "python",
   "nbconvert_exporter": "python",
   "pygments_lexer": "ipython3",
   "version": "3.11.6"
  }
 },
 "nbformat": 4,
 "nbformat_minor": 5
}
